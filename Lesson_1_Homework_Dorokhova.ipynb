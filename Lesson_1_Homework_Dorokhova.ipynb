{
 "cells": [
  {
   "cell_type": "markdown",
   "metadata": {},
   "source": [
    "#### Домашнее задание"
   ]
  },
  {
   "cell_type": "markdown",
   "metadata": {},
   "source": [
    "### Урок 1. Основы клиент-серверного взаимодействия. Парсинг API"
   ]
  },
  {
   "cell_type": "markdown",
   "metadata": {},
   "source": [
    "#### Задание 1. \n"
   ]
  },
  {
   "cell_type": "markdown",
   "metadata": {},
   "source": [
    "##### Посмотреть документацию к API GitHub, разобраться как вывести список репозиториев для конкретного пользователя, сохранить JSON-вывод в файле *.json."
   ]
  },
  {
   "cell_type": "code",
   "execution_count": 146,
   "metadata": {},
   "outputs": [],
   "source": [
    "import requests"
   ]
  },
  {
   "cell_type": "code",
   "execution_count": 147,
   "metadata": {},
   "outputs": [],
   "source": [
    "import getpass"
   ]
  },
  {
   "cell_type": "code",
   "execution_count": 148,
   "metadata": {},
   "outputs": [],
   "source": [
    "import json"
   ]
  },
  {
   "cell_type": "code",
   "execution_count": 149,
   "metadata": {},
   "outputs": [],
   "source": [
    "username = 'popova-ev'"
   ]
  },
  {
   "cell_type": "code",
   "execution_count": 150,
   "metadata": {},
   "outputs": [
    {
     "name": "stdout",
     "output_type": "stream",
     "text": [
      "Password: ········\n"
     ]
    }
   ],
   "source": [
    "password = getpass.getpass(prompt='Password: ', stream=None)"
   ]
  },
  {
   "cell_type": "code",
   "execution_count": 151,
   "metadata": {},
   "outputs": [],
   "source": [
    "url = 'https://api.github.com'"
   ]
  },
  {
   "cell_type": "code",
   "execution_count": 152,
   "metadata": {},
   "outputs": [],
   "source": [
    "r = requests.get('https://api.github.com/user', auth=(username, password))"
   ]
  },
  {
   "cell_type": "code",
   "execution_count": 153,
   "metadata": {},
   "outputs": [
    {
     "data": {
      "text/plain": [
       "'{\"login\":\"popova-ev\",\"id\":68938149,\"node_id\":\"MDQ6VXNlcjY4OTM4MTQ5\",\"avatar_url\":\"https://avatars0.githubusercontent.com/u/68938149?v=4\",\"gravatar_id\":\"\",\"url\":\"https://api.github.com/users/popova-ev\",\"html_url\":\"https://github.com/popova-ev\",\"followers_url\":\"https://api.github.com/users/popova-ev/followers\",\"following_url\":\"https://api.github.com/users/popova-ev/following{/other_user}\",\"gists_url\":\"https://api.github.com/users/popova-ev/gists{/gist_id}\",\"starred_url\":\"https://api.github.com/users/popova-ev/starred{/owner}{/repo}\",\"subscriptions_url\":\"https://api.github.com/users/popova-ev/subscriptions\",\"organizations_url\":\"https://api.github.com/users/popova-ev/orgs\",\"repos_url\":\"https://api.github.com/users/popova-ev/repos\",\"events_url\":\"https://api.github.com/users/popova-ev/events{/privacy}\",\"received_events_url\":\"https://api.github.com/users/popova-ev/received_events\",\"type\":\"User\",\"site_admin\":false,\"name\":null,\"company\":null,\"blog\":\"\",\"location\":null,\"email\":null,\"hireable\":null,\"bio\":null,\"twitter_username\":null,\"public_repos\":4,\"public_gists\":0,\"followers\":0,\"following\":0,\"created_at\":\"2020-07-29T04:40:36Z\",\"updated_at\":\"2020-08-30T17:00:11Z\",\"private_gists\":0,\"total_private_repos\":0,\"owned_private_repos\":0,\"disk_usage\":514,\"collaborators\":0,\"two_factor_authentication\":false,\"plan\":{\"name\":\"free\",\"space\":976562499,\"collaborators\":0,\"private_repos\":10000}}'"
      ]
     },
     "execution_count": 153,
     "metadata": {},
     "output_type": "execute_result"
    }
   ],
   "source": [
    "r.text"
   ]
  },
  {
   "cell_type": "code",
   "execution_count": 154,
   "metadata": {},
   "outputs": [
    {
     "data": {
      "text/plain": [
       "{'login': 'popova-ev',\n",
       " 'id': 68938149,\n",
       " 'node_id': 'MDQ6VXNlcjY4OTM4MTQ5',\n",
       " 'avatar_url': 'https://avatars0.githubusercontent.com/u/68938149?v=4',\n",
       " 'gravatar_id': '',\n",
       " 'url': 'https://api.github.com/users/popova-ev',\n",
       " 'html_url': 'https://github.com/popova-ev',\n",
       " 'followers_url': 'https://api.github.com/users/popova-ev/followers',\n",
       " 'following_url': 'https://api.github.com/users/popova-ev/following{/other_user}',\n",
       " 'gists_url': 'https://api.github.com/users/popova-ev/gists{/gist_id}',\n",
       " 'starred_url': 'https://api.github.com/users/popova-ev/starred{/owner}{/repo}',\n",
       " 'subscriptions_url': 'https://api.github.com/users/popova-ev/subscriptions',\n",
       " 'organizations_url': 'https://api.github.com/users/popova-ev/orgs',\n",
       " 'repos_url': 'https://api.github.com/users/popova-ev/repos',\n",
       " 'events_url': 'https://api.github.com/users/popova-ev/events{/privacy}',\n",
       " 'received_events_url': 'https://api.github.com/users/popova-ev/received_events',\n",
       " 'type': 'User',\n",
       " 'site_admin': False,\n",
       " 'name': None,\n",
       " 'company': None,\n",
       " 'blog': '',\n",
       " 'location': None,\n",
       " 'email': None,\n",
       " 'hireable': None,\n",
       " 'bio': None,\n",
       " 'twitter_username': None,\n",
       " 'public_repos': 4,\n",
       " 'public_gists': 0,\n",
       " 'followers': 0,\n",
       " 'following': 0,\n",
       " 'created_at': '2020-07-29T04:40:36Z',\n",
       " 'updated_at': '2020-08-30T17:00:11Z',\n",
       " 'private_gists': 0,\n",
       " 'total_private_repos': 0,\n",
       " 'owned_private_repos': 0,\n",
       " 'disk_usage': 514,\n",
       " 'collaborators': 0,\n",
       " 'two_factor_authentication': False,\n",
       " 'plan': {'name': 'free',\n",
       "  'space': 976562499,\n",
       "  'collaborators': 0,\n",
       "  'private_repos': 10000}}"
      ]
     },
     "execution_count": 154,
     "metadata": {},
     "output_type": "execute_result"
    }
   ],
   "source": [
    "r.json()"
   ]
  },
  {
   "cell_type": "code",
   "execution_count": 155,
   "metadata": {},
   "outputs": [],
   "source": [
    "repos = requests.get('https://api.github.com/user/repos', auth=(username, password))"
   ]
  },
  {
   "cell_type": "code",
   "execution_count": 156,
   "metadata": {},
   "outputs": [
    {
     "data": {
      "text/plain": [
       "[{'id': 291550464,\n",
       "  'node_id': 'MDEwOlJlcG9zaXRvcnkyOTE1NTA0NjQ=',\n",
       "  'name': '-_-_-_-_-_-_-_-',\n",
       "  'full_name': 'popova-ev/-_-_-_-_-_-_-_-',\n",
       "  'private': False,\n",
       "  'owner': {'login': 'popova-ev',\n",
       "   'id': 68938149,\n",
       "   'node_id': 'MDQ6VXNlcjY4OTM4MTQ5',\n",
       "   'avatar_url': 'https://avatars0.githubusercontent.com/u/68938149?v=4',\n",
       "   'gravatar_id': '',\n",
       "   'url': 'https://api.github.com/users/popova-ev',\n",
       "   'html_url': 'https://github.com/popova-ev',\n",
       "   'followers_url': 'https://api.github.com/users/popova-ev/followers',\n",
       "   'following_url': 'https://api.github.com/users/popova-ev/following{/other_user}',\n",
       "   'gists_url': 'https://api.github.com/users/popova-ev/gists{/gist_id}',\n",
       "   'starred_url': 'https://api.github.com/users/popova-ev/starred{/owner}{/repo}',\n",
       "   'subscriptions_url': 'https://api.github.com/users/popova-ev/subscriptions',\n",
       "   'organizations_url': 'https://api.github.com/users/popova-ev/orgs',\n",
       "   'repos_url': 'https://api.github.com/users/popova-ev/repos',\n",
       "   'events_url': 'https://api.github.com/users/popova-ev/events{/privacy}',\n",
       "   'received_events_url': 'https://api.github.com/users/popova-ev/received_events',\n",
       "   'type': 'User',\n",
       "   'site_admin': False},\n",
       "  'html_url': 'https://github.com/popova-ev/-_-_-_-_-_-_-_-',\n",
       "  'description': 'Домашние задания по курсу \"Методы сбора и обработки данных из сети Интернет\"',\n",
       "  'fork': False,\n",
       "  'url': 'https://api.github.com/repos/popova-ev/-_-_-_-_-_-_-_-',\n",
       "  'forks_url': 'https://api.github.com/repos/popova-ev/-_-_-_-_-_-_-_-/forks',\n",
       "  'keys_url': 'https://api.github.com/repos/popova-ev/-_-_-_-_-_-_-_-/keys{/key_id}',\n",
       "  'collaborators_url': 'https://api.github.com/repos/popova-ev/-_-_-_-_-_-_-_-/collaborators{/collaborator}',\n",
       "  'teams_url': 'https://api.github.com/repos/popova-ev/-_-_-_-_-_-_-_-/teams',\n",
       "  'hooks_url': 'https://api.github.com/repos/popova-ev/-_-_-_-_-_-_-_-/hooks',\n",
       "  'issue_events_url': 'https://api.github.com/repos/popova-ev/-_-_-_-_-_-_-_-/issues/events{/number}',\n",
       "  'events_url': 'https://api.github.com/repos/popova-ev/-_-_-_-_-_-_-_-/events',\n",
       "  'assignees_url': 'https://api.github.com/repos/popova-ev/-_-_-_-_-_-_-_-/assignees{/user}',\n",
       "  'branches_url': 'https://api.github.com/repos/popova-ev/-_-_-_-_-_-_-_-/branches{/branch}',\n",
       "  'tags_url': 'https://api.github.com/repos/popova-ev/-_-_-_-_-_-_-_-/tags',\n",
       "  'blobs_url': 'https://api.github.com/repos/popova-ev/-_-_-_-_-_-_-_-/git/blobs{/sha}',\n",
       "  'git_tags_url': 'https://api.github.com/repos/popova-ev/-_-_-_-_-_-_-_-/git/tags{/sha}',\n",
       "  'git_refs_url': 'https://api.github.com/repos/popova-ev/-_-_-_-_-_-_-_-/git/refs{/sha}',\n",
       "  'trees_url': 'https://api.github.com/repos/popova-ev/-_-_-_-_-_-_-_-/git/trees{/sha}',\n",
       "  'statuses_url': 'https://api.github.com/repos/popova-ev/-_-_-_-_-_-_-_-/statuses/{sha}',\n",
       "  'languages_url': 'https://api.github.com/repos/popova-ev/-_-_-_-_-_-_-_-/languages',\n",
       "  'stargazers_url': 'https://api.github.com/repos/popova-ev/-_-_-_-_-_-_-_-/stargazers',\n",
       "  'contributors_url': 'https://api.github.com/repos/popova-ev/-_-_-_-_-_-_-_-/contributors',\n",
       "  'subscribers_url': 'https://api.github.com/repos/popova-ev/-_-_-_-_-_-_-_-/subscribers',\n",
       "  'subscription_url': 'https://api.github.com/repos/popova-ev/-_-_-_-_-_-_-_-/subscription',\n",
       "  'commits_url': 'https://api.github.com/repos/popova-ev/-_-_-_-_-_-_-_-/commits{/sha}',\n",
       "  'git_commits_url': 'https://api.github.com/repos/popova-ev/-_-_-_-_-_-_-_-/git/commits{/sha}',\n",
       "  'comments_url': 'https://api.github.com/repos/popova-ev/-_-_-_-_-_-_-_-/comments{/number}',\n",
       "  'issue_comment_url': 'https://api.github.com/repos/popova-ev/-_-_-_-_-_-_-_-/issues/comments{/number}',\n",
       "  'contents_url': 'https://api.github.com/repos/popova-ev/-_-_-_-_-_-_-_-/contents/{+path}',\n",
       "  'compare_url': 'https://api.github.com/repos/popova-ev/-_-_-_-_-_-_-_-/compare/{base}...{head}',\n",
       "  'merges_url': 'https://api.github.com/repos/popova-ev/-_-_-_-_-_-_-_-/merges',\n",
       "  'archive_url': 'https://api.github.com/repos/popova-ev/-_-_-_-_-_-_-_-/{archive_format}{/ref}',\n",
       "  'downloads_url': 'https://api.github.com/repos/popova-ev/-_-_-_-_-_-_-_-/downloads',\n",
       "  'issues_url': 'https://api.github.com/repos/popova-ev/-_-_-_-_-_-_-_-/issues{/number}',\n",
       "  'pulls_url': 'https://api.github.com/repos/popova-ev/-_-_-_-_-_-_-_-/pulls{/number}',\n",
       "  'milestones_url': 'https://api.github.com/repos/popova-ev/-_-_-_-_-_-_-_-/milestones{/number}',\n",
       "  'notifications_url': 'https://api.github.com/repos/popova-ev/-_-_-_-_-_-_-_-/notifications{?since,all,participating}',\n",
       "  'labels_url': 'https://api.github.com/repos/popova-ev/-_-_-_-_-_-_-_-/labels{/name}',\n",
       "  'releases_url': 'https://api.github.com/repos/popova-ev/-_-_-_-_-_-_-_-/releases{/id}',\n",
       "  'deployments_url': 'https://api.github.com/repos/popova-ev/-_-_-_-_-_-_-_-/deployments',\n",
       "  'created_at': '2020-08-30T20:54:47Z',\n",
       "  'updated_at': '2020-08-30T20:54:52Z',\n",
       "  'pushed_at': '2020-08-30T20:54:49Z',\n",
       "  'git_url': 'git://github.com/popova-ev/-_-_-_-_-_-_-_-.git',\n",
       "  'ssh_url': 'git@github.com:popova-ev/-_-_-_-_-_-_-_-.git',\n",
       "  'clone_url': 'https://github.com/popova-ev/-_-_-_-_-_-_-_-.git',\n",
       "  'svn_url': 'https://github.com/popova-ev/-_-_-_-_-_-_-_-',\n",
       "  'homepage': None,\n",
       "  'size': 0,\n",
       "  'stargazers_count': 0,\n",
       "  'watchers_count': 0,\n",
       "  'language': None,\n",
       "  'has_issues': True,\n",
       "  'has_projects': True,\n",
       "  'has_downloads': True,\n",
       "  'has_wiki': True,\n",
       "  'has_pages': False,\n",
       "  'forks_count': 0,\n",
       "  'mirror_url': None,\n",
       "  'archived': False,\n",
       "  'disabled': False,\n",
       "  'open_issues_count': 0,\n",
       "  'license': None,\n",
       "  'forks': 0,\n",
       "  'open_issues': 0,\n",
       "  'watchers': 0,\n",
       "  'default_branch': 'master',\n",
       "  'permissions': {'admin': True, 'push': True, 'pull': True}},\n",
       " {'id': 291550583,\n",
       "  'node_id': 'MDEwOlJlcG9zaXRvcnkyOTE1NTA1ODM=',\n",
       "  'name': 'Collecting_Proccessing_Data_From_Internet',\n",
       "  'full_name': 'popova-ev/Collecting_Proccessing_Data_From_Internet',\n",
       "  'private': False,\n",
       "  'owner': {'login': 'popova-ev',\n",
       "   'id': 68938149,\n",
       "   'node_id': 'MDQ6VXNlcjY4OTM4MTQ5',\n",
       "   'avatar_url': 'https://avatars0.githubusercontent.com/u/68938149?v=4',\n",
       "   'gravatar_id': '',\n",
       "   'url': 'https://api.github.com/users/popova-ev',\n",
       "   'html_url': 'https://github.com/popova-ev',\n",
       "   'followers_url': 'https://api.github.com/users/popova-ev/followers',\n",
       "   'following_url': 'https://api.github.com/users/popova-ev/following{/other_user}',\n",
       "   'gists_url': 'https://api.github.com/users/popova-ev/gists{/gist_id}',\n",
       "   'starred_url': 'https://api.github.com/users/popova-ev/starred{/owner}{/repo}',\n",
       "   'subscriptions_url': 'https://api.github.com/users/popova-ev/subscriptions',\n",
       "   'organizations_url': 'https://api.github.com/users/popova-ev/orgs',\n",
       "   'repos_url': 'https://api.github.com/users/popova-ev/repos',\n",
       "   'events_url': 'https://api.github.com/users/popova-ev/events{/privacy}',\n",
       "   'received_events_url': 'https://api.github.com/users/popova-ev/received_events',\n",
       "   'type': 'User',\n",
       "   'site_admin': False},\n",
       "  'html_url': 'https://github.com/popova-ev/Collecting_Proccessing_Data_From_Internet',\n",
       "  'description': None,\n",
       "  'fork': False,\n",
       "  'url': 'https://api.github.com/repos/popova-ev/Collecting_Proccessing_Data_From_Internet',\n",
       "  'forks_url': 'https://api.github.com/repos/popova-ev/Collecting_Proccessing_Data_From_Internet/forks',\n",
       "  'keys_url': 'https://api.github.com/repos/popova-ev/Collecting_Proccessing_Data_From_Internet/keys{/key_id}',\n",
       "  'collaborators_url': 'https://api.github.com/repos/popova-ev/Collecting_Proccessing_Data_From_Internet/collaborators{/collaborator}',\n",
       "  'teams_url': 'https://api.github.com/repos/popova-ev/Collecting_Proccessing_Data_From_Internet/teams',\n",
       "  'hooks_url': 'https://api.github.com/repos/popova-ev/Collecting_Proccessing_Data_From_Internet/hooks',\n",
       "  'issue_events_url': 'https://api.github.com/repos/popova-ev/Collecting_Proccessing_Data_From_Internet/issues/events{/number}',\n",
       "  'events_url': 'https://api.github.com/repos/popova-ev/Collecting_Proccessing_Data_From_Internet/events',\n",
       "  'assignees_url': 'https://api.github.com/repos/popova-ev/Collecting_Proccessing_Data_From_Internet/assignees{/user}',\n",
       "  'branches_url': 'https://api.github.com/repos/popova-ev/Collecting_Proccessing_Data_From_Internet/branches{/branch}',\n",
       "  'tags_url': 'https://api.github.com/repos/popova-ev/Collecting_Proccessing_Data_From_Internet/tags',\n",
       "  'blobs_url': 'https://api.github.com/repos/popova-ev/Collecting_Proccessing_Data_From_Internet/git/blobs{/sha}',\n",
       "  'git_tags_url': 'https://api.github.com/repos/popova-ev/Collecting_Proccessing_Data_From_Internet/git/tags{/sha}',\n",
       "  'git_refs_url': 'https://api.github.com/repos/popova-ev/Collecting_Proccessing_Data_From_Internet/git/refs{/sha}',\n",
       "  'trees_url': 'https://api.github.com/repos/popova-ev/Collecting_Proccessing_Data_From_Internet/git/trees{/sha}',\n",
       "  'statuses_url': 'https://api.github.com/repos/popova-ev/Collecting_Proccessing_Data_From_Internet/statuses/{sha}',\n",
       "  'languages_url': 'https://api.github.com/repos/popova-ev/Collecting_Proccessing_Data_From_Internet/languages',\n",
       "  'stargazers_url': 'https://api.github.com/repos/popova-ev/Collecting_Proccessing_Data_From_Internet/stargazers',\n",
       "  'contributors_url': 'https://api.github.com/repos/popova-ev/Collecting_Proccessing_Data_From_Internet/contributors',\n",
       "  'subscribers_url': 'https://api.github.com/repos/popova-ev/Collecting_Proccessing_Data_From_Internet/subscribers',\n",
       "  'subscription_url': 'https://api.github.com/repos/popova-ev/Collecting_Proccessing_Data_From_Internet/subscription',\n",
       "  'commits_url': 'https://api.github.com/repos/popova-ev/Collecting_Proccessing_Data_From_Internet/commits{/sha}',\n",
       "  'git_commits_url': 'https://api.github.com/repos/popova-ev/Collecting_Proccessing_Data_From_Internet/git/commits{/sha}',\n",
       "  'comments_url': 'https://api.github.com/repos/popova-ev/Collecting_Proccessing_Data_From_Internet/comments{/number}',\n",
       "  'issue_comment_url': 'https://api.github.com/repos/popova-ev/Collecting_Proccessing_Data_From_Internet/issues/comments{/number}',\n",
       "  'contents_url': 'https://api.github.com/repos/popova-ev/Collecting_Proccessing_Data_From_Internet/contents/{+path}',\n",
       "  'compare_url': 'https://api.github.com/repos/popova-ev/Collecting_Proccessing_Data_From_Internet/compare/{base}...{head}',\n",
       "  'merges_url': 'https://api.github.com/repos/popova-ev/Collecting_Proccessing_Data_From_Internet/merges',\n",
       "  'archive_url': 'https://api.github.com/repos/popova-ev/Collecting_Proccessing_Data_From_Internet/{archive_format}{/ref}',\n",
       "  'downloads_url': 'https://api.github.com/repos/popova-ev/Collecting_Proccessing_Data_From_Internet/downloads',\n",
       "  'issues_url': 'https://api.github.com/repos/popova-ev/Collecting_Proccessing_Data_From_Internet/issues{/number}',\n",
       "  'pulls_url': 'https://api.github.com/repos/popova-ev/Collecting_Proccessing_Data_From_Internet/pulls{/number}',\n",
       "  'milestones_url': 'https://api.github.com/repos/popova-ev/Collecting_Proccessing_Data_From_Internet/milestones{/number}',\n",
       "  'notifications_url': 'https://api.github.com/repos/popova-ev/Collecting_Proccessing_Data_From_Internet/notifications{?since,all,participating}',\n",
       "  'labels_url': 'https://api.github.com/repos/popova-ev/Collecting_Proccessing_Data_From_Internet/labels{/name}',\n",
       "  'releases_url': 'https://api.github.com/repos/popova-ev/Collecting_Proccessing_Data_From_Internet/releases{/id}',\n",
       "  'deployments_url': 'https://api.github.com/repos/popova-ev/Collecting_Proccessing_Data_From_Internet/deployments',\n",
       "  'created_at': '2020-08-30T20:55:36Z',\n",
       "  'updated_at': '2020-08-30T20:55:41Z',\n",
       "  'pushed_at': '2020-08-30T20:55:39Z',\n",
       "  'git_url': 'git://github.com/popova-ev/Collecting_Proccessing_Data_From_Internet.git',\n",
       "  'ssh_url': 'git@github.com:popova-ev/Collecting_Proccessing_Data_From_Internet.git',\n",
       "  'clone_url': 'https://github.com/popova-ev/Collecting_Proccessing_Data_From_Internet.git',\n",
       "  'svn_url': 'https://github.com/popova-ev/Collecting_Proccessing_Data_From_Internet',\n",
       "  'homepage': None,\n",
       "  'size': 0,\n",
       "  'stargazers_count': 0,\n",
       "  'watchers_count': 0,\n",
       "  'language': None,\n",
       "  'has_issues': True,\n",
       "  'has_projects': True,\n",
       "  'has_downloads': True,\n",
       "  'has_wiki': True,\n",
       "  'has_pages': False,\n",
       "  'forks_count': 0,\n",
       "  'mirror_url': None,\n",
       "  'archived': False,\n",
       "  'disabled': False,\n",
       "  'open_issues_count': 0,\n",
       "  'license': None,\n",
       "  'forks': 0,\n",
       "  'open_issues': 0,\n",
       "  'watchers': 0,\n",
       "  'default_branch': 'master',\n",
       "  'permissions': {'admin': True, 'push': True, 'pull': True}},\n",
       " {'id': 283403110,\n",
       "  'node_id': 'MDEwOlJlcG9zaXRvcnkyODM0MDMxMTA=',\n",
       "  'name': 'Data-Science-Numpy-Matplotlib-Scikit-learn',\n",
       "  'full_name': 'popova-ev/Data-Science-Numpy-Matplotlib-Scikit-learn',\n",
       "  'private': False,\n",
       "  'owner': {'login': 'popova-ev',\n",
       "   'id': 68938149,\n",
       "   'node_id': 'MDQ6VXNlcjY4OTM4MTQ5',\n",
       "   'avatar_url': 'https://avatars0.githubusercontent.com/u/68938149?v=4',\n",
       "   'gravatar_id': '',\n",
       "   'url': 'https://api.github.com/users/popova-ev',\n",
       "   'html_url': 'https://github.com/popova-ev',\n",
       "   'followers_url': 'https://api.github.com/users/popova-ev/followers',\n",
       "   'following_url': 'https://api.github.com/users/popova-ev/following{/other_user}',\n",
       "   'gists_url': 'https://api.github.com/users/popova-ev/gists{/gist_id}',\n",
       "   'starred_url': 'https://api.github.com/users/popova-ev/starred{/owner}{/repo}',\n",
       "   'subscriptions_url': 'https://api.github.com/users/popova-ev/subscriptions',\n",
       "   'organizations_url': 'https://api.github.com/users/popova-ev/orgs',\n",
       "   'repos_url': 'https://api.github.com/users/popova-ev/repos',\n",
       "   'events_url': 'https://api.github.com/users/popova-ev/events{/privacy}',\n",
       "   'received_events_url': 'https://api.github.com/users/popova-ev/received_events',\n",
       "   'type': 'User',\n",
       "   'site_admin': False},\n",
       "  'html_url': 'https://github.com/popova-ev/Data-Science-Numpy-Matplotlib-Scikit-learn',\n",
       "  'description': None,\n",
       "  'fork': False,\n",
       "  'url': 'https://api.github.com/repos/popova-ev/Data-Science-Numpy-Matplotlib-Scikit-learn',\n",
       "  'forks_url': 'https://api.github.com/repos/popova-ev/Data-Science-Numpy-Matplotlib-Scikit-learn/forks',\n",
       "  'keys_url': 'https://api.github.com/repos/popova-ev/Data-Science-Numpy-Matplotlib-Scikit-learn/keys{/key_id}',\n",
       "  'collaborators_url': 'https://api.github.com/repos/popova-ev/Data-Science-Numpy-Matplotlib-Scikit-learn/collaborators{/collaborator}',\n",
       "  'teams_url': 'https://api.github.com/repos/popova-ev/Data-Science-Numpy-Matplotlib-Scikit-learn/teams',\n",
       "  'hooks_url': 'https://api.github.com/repos/popova-ev/Data-Science-Numpy-Matplotlib-Scikit-learn/hooks',\n",
       "  'issue_events_url': 'https://api.github.com/repos/popova-ev/Data-Science-Numpy-Matplotlib-Scikit-learn/issues/events{/number}',\n",
       "  'events_url': 'https://api.github.com/repos/popova-ev/Data-Science-Numpy-Matplotlib-Scikit-learn/events',\n",
       "  'assignees_url': 'https://api.github.com/repos/popova-ev/Data-Science-Numpy-Matplotlib-Scikit-learn/assignees{/user}',\n",
       "  'branches_url': 'https://api.github.com/repos/popova-ev/Data-Science-Numpy-Matplotlib-Scikit-learn/branches{/branch}',\n",
       "  'tags_url': 'https://api.github.com/repos/popova-ev/Data-Science-Numpy-Matplotlib-Scikit-learn/tags',\n",
       "  'blobs_url': 'https://api.github.com/repos/popova-ev/Data-Science-Numpy-Matplotlib-Scikit-learn/git/blobs{/sha}',\n",
       "  'git_tags_url': 'https://api.github.com/repos/popova-ev/Data-Science-Numpy-Matplotlib-Scikit-learn/git/tags{/sha}',\n",
       "  'git_refs_url': 'https://api.github.com/repos/popova-ev/Data-Science-Numpy-Matplotlib-Scikit-learn/git/refs{/sha}',\n",
       "  'trees_url': 'https://api.github.com/repos/popova-ev/Data-Science-Numpy-Matplotlib-Scikit-learn/git/trees{/sha}',\n",
       "  'statuses_url': 'https://api.github.com/repos/popova-ev/Data-Science-Numpy-Matplotlib-Scikit-learn/statuses/{sha}',\n",
       "  'languages_url': 'https://api.github.com/repos/popova-ev/Data-Science-Numpy-Matplotlib-Scikit-learn/languages',\n",
       "  'stargazers_url': 'https://api.github.com/repos/popova-ev/Data-Science-Numpy-Matplotlib-Scikit-learn/stargazers',\n",
       "  'contributors_url': 'https://api.github.com/repos/popova-ev/Data-Science-Numpy-Matplotlib-Scikit-learn/contributors',\n",
       "  'subscribers_url': 'https://api.github.com/repos/popova-ev/Data-Science-Numpy-Matplotlib-Scikit-learn/subscribers',\n",
       "  'subscription_url': 'https://api.github.com/repos/popova-ev/Data-Science-Numpy-Matplotlib-Scikit-learn/subscription',\n",
       "  'commits_url': 'https://api.github.com/repos/popova-ev/Data-Science-Numpy-Matplotlib-Scikit-learn/commits{/sha}',\n",
       "  'git_commits_url': 'https://api.github.com/repos/popova-ev/Data-Science-Numpy-Matplotlib-Scikit-learn/git/commits{/sha}',\n",
       "  'comments_url': 'https://api.github.com/repos/popova-ev/Data-Science-Numpy-Matplotlib-Scikit-learn/comments{/number}',\n",
       "  'issue_comment_url': 'https://api.github.com/repos/popova-ev/Data-Science-Numpy-Matplotlib-Scikit-learn/issues/comments{/number}',\n",
       "  'contents_url': 'https://api.github.com/repos/popova-ev/Data-Science-Numpy-Matplotlib-Scikit-learn/contents/{+path}',\n",
       "  'compare_url': 'https://api.github.com/repos/popova-ev/Data-Science-Numpy-Matplotlib-Scikit-learn/compare/{base}...{head}',\n",
       "  'merges_url': 'https://api.github.com/repos/popova-ev/Data-Science-Numpy-Matplotlib-Scikit-learn/merges',\n",
       "  'archive_url': 'https://api.github.com/repos/popova-ev/Data-Science-Numpy-Matplotlib-Scikit-learn/{archive_format}{/ref}',\n",
       "  'downloads_url': 'https://api.github.com/repos/popova-ev/Data-Science-Numpy-Matplotlib-Scikit-learn/downloads',\n",
       "  'issues_url': 'https://api.github.com/repos/popova-ev/Data-Science-Numpy-Matplotlib-Scikit-learn/issues{/number}',\n",
       "  'pulls_url': 'https://api.github.com/repos/popova-ev/Data-Science-Numpy-Matplotlib-Scikit-learn/pulls{/number}',\n",
       "  'milestones_url': 'https://api.github.com/repos/popova-ev/Data-Science-Numpy-Matplotlib-Scikit-learn/milestones{/number}',\n",
       "  'notifications_url': 'https://api.github.com/repos/popova-ev/Data-Science-Numpy-Matplotlib-Scikit-learn/notifications{?since,all,participating}',\n",
       "  'labels_url': 'https://api.github.com/repos/popova-ev/Data-Science-Numpy-Matplotlib-Scikit-learn/labels{/name}',\n",
       "  'releases_url': 'https://api.github.com/repos/popova-ev/Data-Science-Numpy-Matplotlib-Scikit-learn/releases{/id}',\n",
       "  'deployments_url': 'https://api.github.com/repos/popova-ev/Data-Science-Numpy-Matplotlib-Scikit-learn/deployments',\n",
       "  'created_at': '2020-07-29T05:03:08Z',\n",
       "  'updated_at': '2020-08-22T16:54:42Z',\n",
       "  'pushed_at': '2020-08-22T17:00:17Z',\n",
       "  'git_url': 'git://github.com/popova-ev/Data-Science-Numpy-Matplotlib-Scikit-learn.git',\n",
       "  'ssh_url': 'git@github.com:popova-ev/Data-Science-Numpy-Matplotlib-Scikit-learn.git',\n",
       "  'clone_url': 'https://github.com/popova-ev/Data-Science-Numpy-Matplotlib-Scikit-learn.git',\n",
       "  'svn_url': 'https://github.com/popova-ev/Data-Science-Numpy-Matplotlib-Scikit-learn',\n",
       "  'homepage': None,\n",
       "  'size': 405,\n",
       "  'stargazers_count': 0,\n",
       "  'watchers_count': 0,\n",
       "  'language': 'Jupyter Notebook',\n",
       "  'has_issues': True,\n",
       "  'has_projects': True,\n",
       "  'has_downloads': True,\n",
       "  'has_wiki': True,\n",
       "  'has_pages': False,\n",
       "  'forks_count': 0,\n",
       "  'mirror_url': None,\n",
       "  'archived': False,\n",
       "  'disabled': False,\n",
       "  'open_issues_count': 3,\n",
       "  'license': {'key': 'gpl-3.0',\n",
       "   'name': 'GNU General Public License v3.0',\n",
       "   'spdx_id': 'GPL-3.0',\n",
       "   'url': 'https://api.github.com/licenses/gpl-3.0',\n",
       "   'node_id': 'MDc6TGljZW5zZTk='},\n",
       "  'forks': 0,\n",
       "  'open_issues': 3,\n",
       "  'watchers': 0,\n",
       "  'default_branch': 'master',\n",
       "  'permissions': {'admin': True, 'push': True, 'pull': True}},\n",
       " {'id': 285068203,\n",
       "  'node_id': 'MDEwOlJlcG9zaXRvcnkyODUwNjgyMDM=',\n",
       "  'name': 'repo-github',\n",
       "  'full_name': 'popova-ev/repo-github',\n",
       "  'private': False,\n",
       "  'owner': {'login': 'popova-ev',\n",
       "   'id': 68938149,\n",
       "   'node_id': 'MDQ6VXNlcjY4OTM4MTQ5',\n",
       "   'avatar_url': 'https://avatars0.githubusercontent.com/u/68938149?v=4',\n",
       "   'gravatar_id': '',\n",
       "   'url': 'https://api.github.com/users/popova-ev',\n",
       "   'html_url': 'https://github.com/popova-ev',\n",
       "   'followers_url': 'https://api.github.com/users/popova-ev/followers',\n",
       "   'following_url': 'https://api.github.com/users/popova-ev/following{/other_user}',\n",
       "   'gists_url': 'https://api.github.com/users/popova-ev/gists{/gist_id}',\n",
       "   'starred_url': 'https://api.github.com/users/popova-ev/starred{/owner}{/repo}',\n",
       "   'subscriptions_url': 'https://api.github.com/users/popova-ev/subscriptions',\n",
       "   'organizations_url': 'https://api.github.com/users/popova-ev/orgs',\n",
       "   'repos_url': 'https://api.github.com/users/popova-ev/repos',\n",
       "   'events_url': 'https://api.github.com/users/popova-ev/events{/privacy}',\n",
       "   'received_events_url': 'https://api.github.com/users/popova-ev/received_events',\n",
       "   'type': 'User',\n",
       "   'site_admin': False},\n",
       "  'html_url': 'https://github.com/popova-ev/repo-github',\n",
       "  'description': None,\n",
       "  'fork': False,\n",
       "  'url': 'https://api.github.com/repos/popova-ev/repo-github',\n",
       "  'forks_url': 'https://api.github.com/repos/popova-ev/repo-github/forks',\n",
       "  'keys_url': 'https://api.github.com/repos/popova-ev/repo-github/keys{/key_id}',\n",
       "  'collaborators_url': 'https://api.github.com/repos/popova-ev/repo-github/collaborators{/collaborator}',\n",
       "  'teams_url': 'https://api.github.com/repos/popova-ev/repo-github/teams',\n",
       "  'hooks_url': 'https://api.github.com/repos/popova-ev/repo-github/hooks',\n",
       "  'issue_events_url': 'https://api.github.com/repos/popova-ev/repo-github/issues/events{/number}',\n",
       "  'events_url': 'https://api.github.com/repos/popova-ev/repo-github/events',\n",
       "  'assignees_url': 'https://api.github.com/repos/popova-ev/repo-github/assignees{/user}',\n",
       "  'branches_url': 'https://api.github.com/repos/popova-ev/repo-github/branches{/branch}',\n",
       "  'tags_url': 'https://api.github.com/repos/popova-ev/repo-github/tags',\n",
       "  'blobs_url': 'https://api.github.com/repos/popova-ev/repo-github/git/blobs{/sha}',\n",
       "  'git_tags_url': 'https://api.github.com/repos/popova-ev/repo-github/git/tags{/sha}',\n",
       "  'git_refs_url': 'https://api.github.com/repos/popova-ev/repo-github/git/refs{/sha}',\n",
       "  'trees_url': 'https://api.github.com/repos/popova-ev/repo-github/git/trees{/sha}',\n",
       "  'statuses_url': 'https://api.github.com/repos/popova-ev/repo-github/statuses/{sha}',\n",
       "  'languages_url': 'https://api.github.com/repos/popova-ev/repo-github/languages',\n",
       "  'stargazers_url': 'https://api.github.com/repos/popova-ev/repo-github/stargazers',\n",
       "  'contributors_url': 'https://api.github.com/repos/popova-ev/repo-github/contributors',\n",
       "  'subscribers_url': 'https://api.github.com/repos/popova-ev/repo-github/subscribers',\n",
       "  'subscription_url': 'https://api.github.com/repos/popova-ev/repo-github/subscription',\n",
       "  'commits_url': 'https://api.github.com/repos/popova-ev/repo-github/commits{/sha}',\n",
       "  'git_commits_url': 'https://api.github.com/repos/popova-ev/repo-github/git/commits{/sha}',\n",
       "  'comments_url': 'https://api.github.com/repos/popova-ev/repo-github/comments{/number}',\n",
       "  'issue_comment_url': 'https://api.github.com/repos/popova-ev/repo-github/issues/comments{/number}',\n",
       "  'contents_url': 'https://api.github.com/repos/popova-ev/repo-github/contents/{+path}',\n",
       "  'compare_url': 'https://api.github.com/repos/popova-ev/repo-github/compare/{base}...{head}',\n",
       "  'merges_url': 'https://api.github.com/repos/popova-ev/repo-github/merges',\n",
       "  'archive_url': 'https://api.github.com/repos/popova-ev/repo-github/{archive_format}{/ref}',\n",
       "  'downloads_url': 'https://api.github.com/repos/popova-ev/repo-github/downloads',\n",
       "  'issues_url': 'https://api.github.com/repos/popova-ev/repo-github/issues{/number}',\n",
       "  'pulls_url': 'https://api.github.com/repos/popova-ev/repo-github/pulls{/number}',\n",
       "  'milestones_url': 'https://api.github.com/repos/popova-ev/repo-github/milestones{/number}',\n",
       "  'notifications_url': 'https://api.github.com/repos/popova-ev/repo-github/notifications{?since,all,participating}',\n",
       "  'labels_url': 'https://api.github.com/repos/popova-ev/repo-github/labels{/name}',\n",
       "  'releases_url': 'https://api.github.com/repos/popova-ev/repo-github/releases{/id}',\n",
       "  'deployments_url': 'https://api.github.com/repos/popova-ev/repo-github/deployments',\n",
       "  'created_at': '2020-08-04T18:42:12Z',\n",
       "  'updated_at': '2020-08-12T08:56:07Z',\n",
       "  'pushed_at': '2020-08-12T09:31:06Z',\n",
       "  'git_url': 'git://github.com/popova-ev/repo-github.git',\n",
       "  'ssh_url': 'git@github.com:popova-ev/repo-github.git',\n",
       "  'clone_url': 'https://github.com/popova-ev/repo-github.git',\n",
       "  'svn_url': 'https://github.com/popova-ev/repo-github',\n",
       "  'homepage': None,\n",
       "  'size': 109,\n",
       "  'stargazers_count': 0,\n",
       "  'watchers_count': 0,\n",
       "  'language': 'Jupyter Notebook',\n",
       "  'has_issues': True,\n",
       "  'has_projects': True,\n",
       "  'has_downloads': True,\n",
       "  'has_wiki': True,\n",
       "  'has_pages': False,\n",
       "  'forks_count': 0,\n",
       "  'mirror_url': None,\n",
       "  'archived': False,\n",
       "  'disabled': False,\n",
       "  'open_issues_count': 3,\n",
       "  'license': None,\n",
       "  'forks': 0,\n",
       "  'open_issues': 3,\n",
       "  'watchers': 0,\n",
       "  'default_branch': 'repo-github',\n",
       "  'permissions': {'admin': True, 'push': True, 'pull': True}}]"
      ]
     },
     "execution_count": 156,
     "metadata": {},
     "output_type": "execute_result"
    }
   ],
   "source": [
    "repos.json()"
   ]
  },
  {
   "cell_type": "code",
   "execution_count": 157,
   "metadata": {},
   "outputs": [
    {
     "name": "stdout",
     "output_type": "stream",
     "text": [
      "-_-_-_-_-_-_-_-\n",
      "Collecting_Proccessing_Data_From_Internet\n",
      "Data-Science-Numpy-Matplotlib-Scikit-learn\n",
      "repo-github\n"
     ]
    }
   ],
   "source": [
    "for i in repos.json():\n",
    "    print(i['name'])"
   ]
  },
  {
   "cell_type": "code",
   "execution_count": 158,
   "metadata": {},
   "outputs": [],
   "source": [
    "with open('repo.json', 'w') as f:\n",
    "    json.dump(r.json(), f)"
   ]
  },
  {
   "cell_type": "markdown",
   "metadata": {},
   "source": [
    "#### Задание 2"
   ]
  },
  {
   "cell_type": "markdown",
   "metadata": {},
   "source": [
    "##### Изучить список открытых API. Найти среди них любое, требующее авторизацию (любого типа). Выполнить запросы к нему, пройдя авторизацию. Ответ сервера записать в файл."
   ]
  },
  {
   "cell_type": "code",
   "execution_count": 159,
   "metadata": {},
   "outputs": [],
   "source": [
    "url = 'https://api.vk.com/'"
   ]
  },
  {
   "cell_type": "code",
   "execution_count": 160,
   "metadata": {},
   "outputs": [],
   "source": [
    "access_token = '4361ddb608eab3585bd7b737387bdcb91cc255e5625e14190adc21a16c16a3bd5e3193196e4c36f512c68'"
   ]
  },
  {
   "cell_type": "code",
   "execution_count": 161,
   "metadata": {},
   "outputs": [],
   "source": [
    "user_id = '177107045'"
   ]
  },
  {
   "cell_type": "code",
   "execution_count": 162,
   "metadata": {},
   "outputs": [],
   "source": [
    "version = 5.52"
   ]
  },
  {
   "cell_type": "code",
   "execution_count": 163,
   "metadata": {},
   "outputs": [],
   "source": [
    "headers = {\n",
    "    'UseraAgent': 'Mozilla/5.0 (Windows NT 6.3; Win64; x64) AppleWebKit/537.36 (KHTML, like Gecko) Chrome/85.0.4183.83 Safari/537.36', \\\n",
    "    'Content-Type': 'application/json', \\\n",
    "    'Authorization': access_token\n",
    "}"
   ]
  },
  {
   "cell_type": "code",
   "execution_count": 164,
   "metadata": {},
   "outputs": [],
   "source": [
    "response = requests.get('https://api.vk.com/method/groups.get', headers = headers, \n",
    "                        params = {'access_token':access_token,\n",
    "                                 'user_id':user_id,\n",
    "                                 'v':version})"
   ]
  },
  {
   "cell_type": "code",
   "execution_count": 165,
   "metadata": {},
   "outputs": [],
   "source": [
    "data = response.json()"
   ]
  },
  {
   "cell_type": "code",
   "execution_count": 166,
   "metadata": {},
   "outputs": [
    {
     "name": "stdout",
     "output_type": "stream",
     "text": [
      "{'response': {'count': 13, 'items': [46761481, 162653458, 48268689, 73678662, 22798006, 30548242, 45491419, 20845272, 35349905, 57024512, 68957733, 132662180, 47835091]}}\n"
     ]
    }
   ],
   "source": [
    "print(data)"
   ]
  },
  {
   "cell_type": "code",
   "execution_count": 167,
   "metadata": {},
   "outputs": [],
   "source": [
    "with open('groups.json', 'w') as f:\n",
    "    json.dump(response.json(), f)"
   ]
  }
 ],
 "metadata": {
  "kernelspec": {
   "display_name": "Python 3",
   "language": "python",
   "name": "python3"
  },
  "language_info": {
   "codemirror_mode": {
    "name": "ipython",
    "version": 3
   },
   "file_extension": ".py",
   "mimetype": "text/x-python",
   "name": "python",
   "nbconvert_exporter": "python",
   "pygments_lexer": "ipython3",
   "version": "3.7.6"
  }
 },
 "nbformat": 4,
 "nbformat_minor": 4
}
